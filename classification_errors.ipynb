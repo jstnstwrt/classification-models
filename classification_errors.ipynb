{
 "cells": [
  {
   "cell_type": "markdown",
   "metadata": {},
   "source": [
    "### Classification Error Metric Challenges\n",
    "\n",
    "**Settings:  Where applicable, use test_size=0.30, random_state=4444.  This will permit comparison of results across users.\n",
    "\n",
    "*These reference the Classification Challenges.*"
   ]
  },
  {
   "cell_type": "code",
   "execution_count": 118,
   "metadata": {
    "collapsed": true
   },
   "outputs": [],
   "source": [
    "import pandas as pd\n",
    "import numpy as np\n",
    "from sklearn.linear_model import LogisticRegression\n",
    "from sklearn.neighbors import KNeighborsClassifier\n",
    "from sklearn.cross_validation import train_test_split, cross_val_score\n",
    "from sklearn.metrics import precision_recall_fscore_support, roc_curve, auc\n",
    "from sklearn.grid_search import GridSearchCV\n",
    "import matplotlib.pyplot as plt\n",
    "import seaborn\n",
    "from pprint import pprint\n",
    "%matplotlib inline"
   ]
  },
  {
   "cell_type": "markdown",
   "metadata": {},
   "source": [
    "#### Challenge 1\n",
    "\n",
    "For the house representatives data set, calculate the accuracy, precision, recall and f1 scores of each classifier you built (on the test set)."
   ]
  },
  {
   "cell_type": "code",
   "execution_count": 89,
   "metadata": {
    "collapsed": false
   },
   "outputs": [],
   "source": [
    "votes = pd.read_csv('voting.csv')\n",
    "names = ['party','handicapped','water','adoption',\n",
    "         'physician','aid_el_salvador','religion',\n",
    "         'satellite','aid_nicaraguan','missile',\n",
    "         'immigration','synfuels','education','superfund',\n",
    "         'crime','duty_free','south_africa']\n",
    "votes.columns = names\n",
    "votes.replace({'n':0,'y':1,'democrat':1,'republican':0,'?':np.nan},inplace=True)\n",
    "for col in votes.columns:\n",
    "    if col != 'party':  \n",
    "        votes[col].replace(np.nan, votes[col].mode()[0],inplace=True)"
   ]
  },
  {
   "cell_type": "code",
   "execution_count": 90,
   "metadata": {
    "collapsed": true
   },
   "outputs": [],
   "source": [
    "y = votes.pop('party')\n",
    "X = votes\n",
    "X_train,X_test,y_train,y_test=train_test_split(X,y,test_size=.30,random_state=4444)"
   ]
  },
  {
   "cell_type": "markdown",
   "metadata": {},
   "source": [
    "Recomputing the logistic model."
   ]
  },
  {
   "cell_type": "code",
   "execution_count": 91,
   "metadata": {
    "collapsed": false
   },
   "outputs": [
    {
     "data": {
      "text/plain": [
       "{'C': 0.5}"
      ]
     },
     "execution_count": 91,
     "metadata": {},
     "output_type": "execute_result"
    }
   ],
   "source": [
    "param_grid = {'C':.1*np.arange(1,100)}\n",
    "rgr = GridSearchCV(LogisticRegression(),param_grid,cv=5)\n",
    "rgr.fit(X_train,y_train)\n",
    "rgr.best_params_"
   ]
  },
  {
   "cell_type": "code",
   "execution_count": 122,
   "metadata": {
    "collapsed": false
   },
   "outputs": [
    {
     "name": "stdout",
     "output_type": "stream",
     "text": [
      "0.466666666667\n",
      "\n",
      "(array([ 0.  ,  0.48,  0.4 ]),\n",
      " array([ 0.        ,  0.85714286,  0.22222222]),\n",
      " array([ 0.        ,  0.61538462,  0.28571429]),\n",
      " array([ 7, 14,  9]))\n"
     ]
    }
   ],
   "source": [
    "rgr = LogisticRegression(C=.5)\n",
    "rgr.fit(X_train,y_train)\n",
    "print rgr.score(X_test,y_test)\n",
    "print ''\n",
    "pprint(precision_recall_fscore_support(y_test,rgr.predict(X_test)))"
   ]
  },
  {
   "cell_type": "markdown",
   "metadata": {},
   "source": [
    "Recomputing the Knn model."
   ]
  },
  {
   "cell_type": "code",
   "execution_count": 93,
   "metadata": {
    "collapsed": false
   },
   "outputs": [
    {
     "data": {
      "text/plain": [
       "{'n_neighbors': 3}"
      ]
     },
     "execution_count": 93,
     "metadata": {},
     "output_type": "execute_result"
    }
   ],
   "source": [
    "param_grid = {'n_neighbors':np.arange(1,21)}\n",
    "knn = GridSearchCV(KNeighborsClassifier(),param_grid,cv=5)\n",
    "knn.fit(X_train,y_train)\n",
    "knn.best_params_"
   ]
  },
  {
   "cell_type": "code",
   "execution_count": 121,
   "metadata": {
    "collapsed": false
   },
   "outputs": [
    {
     "name": "stdout",
     "output_type": "stream",
     "text": [
      "0.5\n",
      "\n",
      "(array([ 0.33333333,  0.5       ,  0.6       ]),\n",
      " array([ 0.14285714,  0.78571429,  0.33333333]),\n",
      " array([ 0.2       ,  0.61111111,  0.42857143]),\n",
      " array([ 7, 14,  9]))\n"
     ]
    }
   ],
   "source": [
    "knn = KNeighborsClassifier(n_neighbors=2)\n",
    "knn.fit (X_train,y_train)\n",
    "print knn.score(X_test,y_test)\n",
    "print ''\n",
    "pprint( precision_recall_fscore_support(y_test,knn.predict(X_test)))"
   ]
  },
  {
   "cell_type": "markdown",
   "metadata": {},
   "source": [
    "#### Challenge 2\n",
    "\n",
    "For each, draw the ROC curve and calculate the AUC."
   ]
  },
  {
   "cell_type": "code",
   "execution_count": 99,
   "metadata": {
    "collapsed": true
   },
   "outputs": [],
   "source": [
    "rgr_probs = rgr.predict_proba(X_test)\n",
    "rgr_probs_isdem = zip(*rgr_probs)[1]\n",
    "rgr_fpr, rgr_tpr, _ = roc_curve(y_test,rgr_probs_isdem,pos_label=1)\n",
    "rgr_auc = auc(rgr_fpr,rgr_tpr)"
   ]
  },
  {
   "cell_type": "code",
   "execution_count": 98,
   "metadata": {
    "collapsed": true
   },
   "outputs": [],
   "source": [
    "knn_probs = knn.predict_proba(X_test)\n",
    "knn_probs_isdem = zip(*knn_probs)[1]\n",
    "knn_fpr, knn_tpr, _ = roc_curve(y_test,knn_probs_isdem,pos_label=1)\n",
    "knn_auc = auc(knn_fpr,knn_tpr)"
   ]
  },
  {
   "cell_type": "code",
   "execution_count": 100,
   "metadata": {
    "collapsed": false
   },
   "outputs": [
    {
     "data": {
      "text/plain": [
       "<matplotlib.legend.Legend at 0x116561910>"
      ]
     },
     "execution_count": 100,
     "metadata": {},
     "output_type": "execute_result"
    },
    {
     "data": {
      "image/png": "[encoded data removed]",
      "text/plain": [
       "<matplotlib.figure.Figure at 0x1164339d0>"
      ]
     },
     "metadata": {},
     "output_type": "display_data"
    }
   ],
   "source": [
    "plt.plot(rgr_fpr, rgr_tpr, label='Logistic ROC curve (area = %0.2f)' % rgr_auc)\n",
    "plt.plot(knn_fpr, knn_tpr, label='KNN ROC curve (area = %0.2f)' % knn_auc)\n",
    "plt.plot([0, 1], [0, 1], 'k--')\n",
    "plt.xlim([0.0, 1.0])\n",
    "plt.ylim([0.0, 1.05])\n",
    "plt.xlabel('False Positive Rate')\n",
    "plt.ylabel('True Positive Rate')\n",
    "plt.title('Logistic Regression ROC')\n",
    "plt.legend(loc=\"lower right\")"
   ]
  },
  {
   "cell_type": "markdown",
   "metadata": {},
   "source": [
    "#### Challenge 3\n",
    "\n",
    "Calculate the same metrics you did in challenge 1, but this time in a cross validation scheme with the `cross_val_score` function (like in Challenge 9)."
   ]
  },
  {
   "cell_type": "code",
   "execution_count": 103,
   "metadata": {
    "collapsed": false
   },
   "outputs": [],
   "source": [
    "param_grid = {'scoring': ['accuracy','precision','recall','f1']}"
   ]
  },
  {
   "cell_type": "code",
   "execution_count": 111,
   "metadata": {
    "collapsed": false
   },
   "outputs": [
    {
     "name": "stdout",
     "output_type": "stream",
     "text": [
      "logistic regression\n",
      "accuracy  0.957126124377\n",
      "precision  0.974635021613\n",
      "recall  0.957501280082\n",
      "f1  0.964946841776\n"
     ]
    }
   ],
   "source": [
    "print 'logistic regression'\n",
    "for metric in param_grid['scoring']:\n",
    "    print metric + '  '+ str(np.mean(cross_val_score(rgr,X_train,y_train,scoring=metric)))"
   ]
  },
  {
   "cell_type": "code",
   "execution_count": 112,
   "metadata": {
    "collapsed": false
   },
   "outputs": [
    {
     "name": "stdout",
     "output_type": "stream",
     "text": [
      "knn \n",
      "accuracy  0.897617938264\n",
      "precision  0.977044025157\n",
      "recall  0.856289469193\n",
      "f1  0.911841640156\n"
     ]
    }
   ],
   "source": [
    "print 'knn '\n",
    "for metric in param_grid['scoring']:\n",
    "    print metric + '  '+ str(np.mean(cross_val_score(knn,X_train,y_train,scoring=metric)))"
   ]
  },
  {
   "cell_type": "markdown",
   "metadata": {},
   "source": [
    "#### Challenge 4\n",
    "\n",
    "For your movie classifiers, calculate the precision and recall for each class."
   ]
  },
  {
   "cell_type": "code",
   "execution_count": 113,
   "metadata": {
    "collapsed": true
   },
   "outputs": [],
   "source": [
    "movies = pd.read_csv('movies.csv')\n",
    "movies.replace({\"G\":\"<= PG\",\"PG\":\"<= PG\"},inplace=True)\n",
    "y = movies.pop('Rating')\n",
    "X = movies.drop(['Title','Director','ReleaseDate'],axis=1)\n",
    "X = X.fillna(X.mean())\n",
    "X_train, X_test, y_train, y_test = train_test_split(X,y,test_size=.30,random_state=4444)"
   ]
  },
  {
   "cell_type": "code",
   "execution_count": 120,
   "metadata": {
    "collapsed": false
   },
   "outputs": [
    {
     "name": "stdout",
     "output_type": "stream",
     "text": [
      "['<= PG' 'PG-13' 'R']\n",
      "(array([ 0.  ,  0.48,  0.4 ]),\n",
      " array([ 0.        ,  0.85714286,  0.22222222]),\n",
      " array([ 0.        ,  0.61538462,  0.28571429]),\n",
      " array([ 7, 14,  9]))\n"
     ]
    }
   ],
   "source": [
    "rgr = LogisticRegression(C=0.100)\n",
    "rgr.fit(X_train,y_train)\n",
    "print rgr.classes_\n",
    "pprint(precision_recall_fscore_support(y_test,rgr.predict(X_test)))"
   ]
  },
  {
   "cell_type": "markdown",
   "metadata": {},
   "source": [
    "#### Challenge 5\n",
    "\n",
    "Draw the ROC curve (and calculate AUC) for the logistic regression classifier from challenge 12."
   ]
  },
  {
   "cell_type": "code",
   "execution_count": 123,
   "metadata": {
    "collapsed": false
   },
   "outputs": [
    {
     "data": {
      "text/plain": [
       "LogisticRegression(C=0.1, class_weight=None, dual=False, fit_intercept=True,\n",
       "          intercept_scaling=1, max_iter=100, multi_class='ovr', n_jobs=1,\n",
       "          penalty='l2', random_state=None, solver='liblinear', tol=0.0001,\n",
       "          verbose=0, warm_start=False)"
      ]
     },
     "execution_count": 123,
     "metadata": {},
     "output_type": "execute_result"
    }
   ],
   "source": [
    "haberman = pd.read_csv('haberman.csv',header=None)\n",
    "names = ['age','surgery_yr','num_pos','survival']\n",
    "haberman.columns = names\n",
    "haberman.survival.replace({2:0},inplace=True)\n",
    "y = haberman.pop('survival')\n",
    "X= haberman\n",
    "X_train,X_test,y_train,y_test = train_test_split(X,y,test_size=.3)\n",
    "rgr = LogisticRegression(C=.1)\n",
    "rgr.fit(X_train,y_train)"
   ]
  },
  {
   "cell_type": "code",
   "execution_count": 129,
   "metadata": {
    "collapsed": false
   },
   "outputs": [
    {
     "data": {
      "text/plain": [
       "<matplotlib.legend.Legend at 0x1166d0590>"
      ]
     },
     "execution_count": 129,
     "metadata": {},
     "output_type": "execute_result"
    },
    {
     "data": {
      "image/png": "[encoded data removed]",
      "text/plain": [
       "<matplotlib.figure.Figure at 0x1160ab390>"
      ]
     },
     "metadata": {},
     "output_type": "display_data"
    }
   ],
   "source": [
    "probs = rgr.predict_proba(X_test)\n",
    "fpr,tpr,_ = roc_curve(y_test,zip(*probs)[1],pos_label=1)\n",
    "area = auc(fpr,tpr)\n",
    "plt.plot(fpr, tpr, label='Logistic ROC curve (area = %0.2f)' % area)\n",
    "plt.plot([0, 1], [0, 1], 'k--')\n",
    "plt.xlim([0.0, 1.0])\n",
    "plt.ylim([0.0, 1.05])\n",
    "plt.xlabel('False Positive Rate')\n",
    "plt.ylabel('True Positive Rate')\n",
    "plt.title('Logistic Regression ROC')\n",
    "plt.legend(loc=\"lower right\")"
   ]
  }
 ],
 "metadata": {
  "kernelspec": {
   "display_name": "Python 2",
   "language": "python",
   "name": "python2"
  },
  "language_info": {
   "codemirror_mode": {
    "name": "ipython",
    "version": 2
   },
   "file_extension": ".py",
   "mimetype": "text/x-python",
   "name": "python",
   "nbconvert_exporter": "python",
   "pygments_lexer": "ipython2",
   "version": "2.7.11"
  }
 },
 "nbformat": 4,
 "nbformat_minor": 0
}
