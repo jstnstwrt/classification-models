{
 "cells": [
  {
   "cell_type": "markdown",
   "metadata": {},
   "source": [
    "### Classification Error Metric Challenges\n",
    "\n",
    "**Settings:  Where applicable, use test_size=0.30, random_state=4444.  This will permit comparison of results across users.\n",
    "\n",
    "*These reference the Classification Challenges.*"
   ]
  },
  {
   "cell_type": "code",
   "execution_count": 60,
   "metadata": {
    "collapsed": true
   },
   "outputs": [],
   "source": [
    "import pandas as pd\n",
    "import numpy as np\n",
    "from sklearn.linear_model import LogisticRegression\n",
    "from sklearn.neighbors import KNeighborsClassifier\n",
    "from sklearn.cross_validation import train_test_split\n",
    "from sklearn.metrics import precision_recall_fscore_support, roc_curve, auc\n",
    "from sklearn.grid_search import GridSearchCV"
   ]
  },
  {
   "cell_type": "markdown",
   "metadata": {},
   "source": [
    "#### Challenge 1\n",
    "\n",
    "For the house representatives data set, calculate the accuracy, precision, recall and f1 scores of each classifier you built (on the test set)."
   ]
  },
  {
   "cell_type": "code",
   "execution_count": 32,
   "metadata": {
    "collapsed": false
   },
   "outputs": [],
   "source": [
    "votes = pd.read_csv('voting.csv')\n",
    "names = ['party','handicapped','water','adoption',\n",
    "         'physician','aid_el_salvador','religion',\n",
    "         'satellite','aid_nicaraguan','missile',\n",
    "         'immigration','synfuels','education','superfund',\n",
    "         'crime','duty_free','south_africa']\n",
    "votes.columns = names\n",
    "votes.replace({'n':0,'y':1,'?':np.nan},inplace=True)\n",
    "for col in votes.columns:\n",
    "    if col != 'party':  \n",
    "        votes[col].replace(np.nan, votes[col].mode()[0],inplace=True)"
   ]
  },
  {
   "cell_type": "code",
   "execution_count": 33,
   "metadata": {
    "collapsed": true
   },
   "outputs": [],
   "source": [
    "y = votes.pop('party')\n",
    "X = votes\n",
    "X_train,X_test,y_train,y_test=train_test_split(X,y,test_size=.30,random_state=4444)"
   ]
  },
  {
   "cell_type": "markdown",
   "metadata": {},
   "source": [
    "Recomputing the logistic model."
   ]
  },
  {
   "cell_type": "code",
   "execution_count": 35,
   "metadata": {
    "collapsed": false
   },
   "outputs": [
    {
     "data": {
      "text/plain": [
       "{'C': 0.5}"
      ]
     },
     "execution_count": 35,
     "metadata": {},
     "output_type": "execute_result"
    }
   ],
   "source": [
    "param_grid = {'C':.1*np.arange(1,100)}\n",
    "rgr = GridSearchCV(LogisticRegression(),param_grid,cv=5)\n",
    "rgr.fit(X_train,y_train)\n",
    "rgr.best_params_"
   ]
  },
  {
   "cell_type": "code",
   "execution_count": 36,
   "metadata": {
    "collapsed": false
   },
   "outputs": [
    {
     "name": "stdout",
     "output_type": "stream",
     "text": [
      "0.954198473282\n",
      "\n",
      "(array([ 0.93975904,  0.97916667]), array([ 0.98734177,  0.90384615]), array([ 0.96296296,  0.94      ]), array([79, 52]))\n"
     ]
    }
   ],
   "source": [
    "rgr = LogisticRegression(C=.5)\n",
    "rgr.fit(X_train,y_train)\n",
    "print rgr.score(X_test,y_test)\n",
    "print ''\n",
    "print precision_recall_fscore_support(y_test,rgr.predict(X_test))"
   ]
  },
  {
   "cell_type": "markdown",
   "metadata": {},
   "source": [
    "Recomputing the Knn model."
   ]
  },
  {
   "cell_type": "code",
   "execution_count": 38,
   "metadata": {
    "collapsed": false
   },
   "outputs": [
    {
     "data": {
      "text/plain": [
       "{'n_neighbors': 2}"
      ]
     },
     "execution_count": 38,
     "metadata": {},
     "output_type": "execute_result"
    }
   ],
   "source": [
    "param_grid = {'n_neighbors':np.arange(1,21)}\n",
    "knn = GridSearchCV(KNeighborsClassifier(),param_grid,cv=5)\n",
    "knn.fit(X_train,y_train)\n",
    "knn.best_params_"
   ]
  },
  {
   "cell_type": "code",
   "execution_count": 39,
   "metadata": {
    "collapsed": false
   },
   "outputs": [
    {
     "name": "stdout",
     "output_type": "stream",
     "text": [
      "0.923664122137\n",
      "\n",
      "(array([ 0.90588235,  0.95652174]), array([ 0.97468354,  0.84615385]), array([ 0.93902439,  0.89795918]), array([79, 52]))\n"
     ]
    }
   ],
   "source": [
    "knn = KNeighborsClassifier(n_neighbors=2)\n",
    "knn.fit (X_train,y_train)\n",
    "print knn.score(X_test,y_test)\n",
    "print ''\n",
    "print precision_recall_fscore_support(y_test,knn.predict(X_test))"
   ]
  },
  {
   "cell_type": "markdown",
   "metadata": {},
   "source": [
    "#### Challenge 2\n",
    "\n",
    "For each, draw the ROC curve and calculate the AUC."
   ]
  },
  {
   "cell_type": "code",
   "execution_count": 58,
   "metadata": {
    "collapsed": false
   },
   "outputs": [],
   "source": [
    "rgr_probs = rgr.predict_proba(X_test)\n",
    "rgr_probs_isdem = zip(*rgr_probs)[0]\n",
    "rgr_fpr, rgr_tpr, rgr_thresholds = roc_curve(y_test,rgr_probs_isdem,pos_label='democrat')"
   ]
  },
  {
   "cell_type": "code",
   "execution_count": 59,
   "metadata": {
    "collapsed": true
   },
   "outputs": [],
   "source": [
    "knn_probs = knn.predict_proba(X_test)\n",
    "knn_probs_isdem = zip(*knn_probs)[0]\n",
    "knn_fpr, knn_tpr, knn_thresholds = roc_curve(y_test,knn_probs_isdem,pos_label='democrat')"
   ]
  },
  {
   "cell_type": "markdown",
   "metadata": {},
   "source": [
    "#### Challenge 3\n",
    "\n",
    "Calculate the same metrics you did in challenge 1, but this time in a cross validation scheme with the `cross_val_score` function (like in Challenge 9)."
   ]
  },
  {
   "cell_type": "markdown",
   "metadata": {},
   "source": [
    "#### Challenge 4\n",
    "\n",
    "For your movie classifiers, calculate the precision and recall for each class."
   ]
  },
  {
   "cell_type": "markdown",
   "metadata": {},
   "source": [
    "#### Challenge 5\n",
    "\n",
    "Draw the ROC curve (and calculate AUC) for the logistic regression classifier from challenge 12."
   ]
  }
 ],
 "metadata": {
  "kernelspec": {
   "display_name": "Python 2",
   "language": "python",
   "name": "python2"
  },
  "language_info": {
   "codemirror_mode": {
    "name": "ipython",
    "version": 2
   },
   "file_extension": ".py",
   "mimetype": "text/x-python",
   "name": "python",
   "nbconvert_exporter": "python",
   "pygments_lexer": "ipython2",
   "version": "2.7.11"
  }
 },
 "nbformat": 4,
 "nbformat_minor": 0
}
